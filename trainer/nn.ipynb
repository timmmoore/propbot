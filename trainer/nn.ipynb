{
 "cells": [
  {
   "cell_type": "code",
   "execution_count": 209,
   "metadata": {},
   "outputs": [],
   "source": [
    "import keras\n",
    "from keras.layers import Dense\n",
    "from keras.models import Sequential\n",
    "from keras import optimizers\n",
    "from keras import backend as K\n",
    "import numpy as np\n",
    "\n",
    "from matplotlib import pyplot as plt\n",
    "from IPython.display import clear_output"
   ]
  },
  {
   "cell_type": "code",
   "execution_count": 210,
   "metadata": {
    "collapsed": true
   },
   "outputs": [],
   "source": [
    "#training data from https://github.com/IdleHandsProject/makennbot\n",
    "x_train = [\n",
    "  [ 0.0, 0.0, 0.0, 0.0, 0.0],\n",
    "  [ 1.0, 1.0, 1.0, 1.0, 1.0],\n",
    "  [ 0.0, 0.0, 1.0, 0.0, 0.0],\n",
    "  [ 0.0, 1.0, 1.0, 1.0, 0.0],\n",
    "  [ 0.5, 0.5, 0.5, 0.5, 0.5],\n",
    "  [ 0.0, 0.0, 0.5, 0.0, 0.0],\n",
    "]\n",
    "y_train = [\n",
    "  [ 1.0, 1.0],\n",
    "  [ 0.0, 0.0],\n",
    "  [ 0.6, 0.7],\n",
    "  [ 0.8, 0.2],\n",
    "  [ 0.6, 0.6],\n",
    "  [ 0.5, 0.6],\n",
    "]\n",
    "\n",
    "x_train = np.array(x_train)\n",
    "y_train = np.array(y_train)"
   ]
  },
  {
   "cell_type": "code",
   "execution_count": 211,
   "metadata": {
    "collapsed": true
   },
   "outputs": [],
   "source": [
    "model = Sequential()\n",
    "\n",
    "IN = x_train.shape[1]\n",
    "HIDDEN = IN + 1\n",
    "OUT = y_train.shape[1]\n",
    "\n",
    "model.add(Dense(units=HIDDEN, activation='sigmoid', input_dim=IN, dtype='float16'))\n",
    "model.add(Dense(units=OUT, activation='sigmoid', dtype='float16'))\n",
    "\n",
    "model.compile(loss='mean_squared_error',\n",
    "              optimizer=optimizers.SGD(learning_rate=0.5, momentum=0.9))\n"
   ]
  },
  {
   "cell_type": "code",
   "execution_count": 212,
   "metadata": {
    "collapsed": true
   },
   "outputs": [],
   "source": [
    "class PlotLosses(keras.callbacks.Callback):\n",
    "    def on_train_begin(self, logs={}):\n",
    "        self.i = 0\n",
    "        self.x = []\n",
    "        self.losses = []\n",
    "        self.val_losses = []\n",
    "        \n",
    "        self.fig = plt.figure()\n",
    "        self.logs = []\n",
    "\n",
    "    def on_epoch_end(self, epoch, logs={}):\n",
    "        \n",
    "        self.logs.append(logs)\n",
    "        self.x.append(self.i)\n",
    "        self.losses.append(logs.get('loss'))\n",
    "        #self.val_losses.append(logs.get('val_loss'))\n",
    "        self.i += 1\n",
    "        \n",
    "        clear_output(wait=True)\n",
    "        \n",
    "        plt.grid(True)\n",
    "        plt.plot(self.x, self.losses, label=\"loss\")\n",
    "        #plt.plot(self.x, self.val_losses, label=\"val_loss\")\n",
    "        plt.legend()\n",
    "        plt.show();\n",
    "        \n",
    "plot_losses = PlotLosses()"
   ]
  },
  {
   "cell_type": "code",
   "execution_count": 213,
   "metadata": {},
   "outputs": [
    {
     "data": {
      "image/png": "[encoded data removed]",
      "text/plain": [
       "<Figure size 640x480 with 1 Axes>"
      ]
     },
     "metadata": {},
     "output_type": "display_data"
    }
   ],
   "source": [
    "#callback = keras.callbacks.EarlyStopping(monitor='loss',min_delta=0.0001)\n",
    "history = model.fit(x_train, y_train, epochs=5000, batch_size=1, verbose=False, callbacks=[plot_losses])"
   ]
  },
  {
   "cell_type": "code",
   "execution_count": 214,
   "metadata": {},
   "outputs": [
    {
     "name": "stdout",
     "output_type": "stream",
     "text": [
      "loss:\t 6.091594696044922e-05\n",
      "1/1 [==============================] - 0s 146ms/step\n",
      "model:\t [0.98 0.98]\n",
      "label:\t [1. 1.]\n",
      " \n",
      "model:\t [0.01 0.01]\n",
      "label:\t [0. 0.]\n",
      " \n",
      "model:\t [0.6 0.7]\n",
      "label:\t [0.6 0.7]\n",
      " \n",
      "model:\t [0.8 0.2]\n",
      "label:\t [0.8 0.2]\n",
      " \n",
      "model:\t [0.6 0.6]\n",
      "label:\t [0.6 0.6]\n",
      " \n",
      "model:\t [0.5 0.6]\n",
      "label:\t [0.5 0.6]\n",
      " \n"
     ]
    }
   ],
   "source": [
    "print('loss:\\t', history.history['loss'][-1])\n",
    "preds = model.predict(x_train).tolist()\n",
    "for i, pred in enumerate(preds):\n",
    "    print('model:\\t', np.round(pred,2))\n",
    "    print('label:\\t', y_train[i])\n",
    "    print(' ')"
   ]
  },
  {
   "cell_type": "code",
   "execution_count": 215,
   "metadata": {
    "collapsed": true
   },
   "outputs": [],
   "source": [
    "def to_str(name, W):\n",
    "    s = str(W.tolist()).replace('[', '').replace(']', '\\n').replace(',', '\\nlong ')\n",
    "    return 'f'+name+'\\nlong ' + s + 'fEnd'+name"
   ]
  },
  {
   "cell_type": "code",
   "execution_count": 216,
   "metadata": {},
   "outputs": [
    {
     "name": "stdout",
     "output_type": "stream",
     "text": [
      "// replace these two lines in spin2 code:\n",
      "// float HiddenWeights[InputNodes+1][HiddenNodes]\n",
      "// float OutputWeights[HiddenNodes+1][OutputNodes]\n",
      "// With trained weights below.\n",
      "\n",
      "\n",
      "fHiddenWeights\n",
      "long -1.8837890625\n",
      "long  0.5009765625\n",
      "long  -0.5\n",
      "long  0.3486328125\n",
      "long  -0.5068359375\n",
      "long  -1.484375\n",
      "\n",
      "long  0.806640625\n",
      "long  -2.666015625\n",
      "long  1.537109375\n",
      "long  -2.0625\n",
      "long  1.0087890625\n",
      "long  -2.05078125\n",
      "\n",
      "long  2.40625\n",
      "long  6.71484375\n",
      "long  -0.6962890625\n",
      "long  6.171875\n",
      "long  -1.00390625\n",
      "long  -0.77587890625\n",
      "\n",
      "long  0.036773681640625\n",
      "long  -1.625\n",
      "long  1.69921875\n",
      "long  -1.578125\n",
      "long  1.0673828125\n",
      "long  -2.05078125\n",
      "\n",
      "long  -1.7978515625\n",
      "long  0.5361328125\n",
      "long  -0.771484375\n",
      "long  0.3486328125\n",
      "long  -0.77099609375\n",
      "long  -1.51953125\n",
      "\n",
      "long  -1.9599609375\n",
      "long  -1.0107421875\n",
      "long  -2.07421875\n",
      "long  -0.845703125\n",
      "long  -0.732421875\n",
      "long  5.859375\n",
      "\n",
      "fEndHiddenWeights\n",
      "fOutputWeights\n",
      "long 3.767578125\n",
      "long  2.69140625\n",
      "\n",
      "long  -4.05078125\n",
      "long  -3.6484375\n",
      "\n",
      "long  0.0048370361328125\n",
      "long  -2.58984375\n",
      "\n",
      "long  -3.466796875\n",
      "long  -3.580078125\n",
      "\n",
      "long  0.4833984375\n",
      "long  -2.775390625\n",
      "\n",
      "long  4.47265625\n",
      "long  4.8515625\n",
      "\n",
      "long  1.0703125\n",
      "long  2.134765625\n",
      "\n",
      "fEndOutputWeights\n"
     ]
    }
   ],
   "source": [
    "# output weights as strings you can copy into arduino sketch\n",
    "W1 = np.vstack((K.eval(model.weights[0]), K.eval(model.weights[1])))\n",
    "W2 = np.vstack((K.eval(model.weights[2]), K.eval(model.weights[3])))\n",
    "\n",
    "print('// replace these two lines in spin2 code:')\n",
    "print('// float HiddenWeights[InputNodes+1][HiddenNodes]')\n",
    "print('// float OutputWeights[HiddenNodes+1][OutputNodes]')\n",
    "print('// With trained weights below.')\n",
    "print('\\n')\n",
    "print(to_str('HiddenWeights', W1))\n",
    "print(to_str('OutputWeights', W2))"
   ]
  },
  {
   "cell_type": "code",
   "execution_count": null,
   "metadata": {
    "collapsed": true
   },
   "outputs": [],
   "source": []
  }
 ],
 "metadata": {
  "kernelspec": {
   "display_name": "Python 3",
   "language": "python",
   "name": "python3"
  },
  "language_info": {
   "codemirror_mode": {
    "name": "ipython",
    "version": 3
   },
   "file_extension": ".py",
   "mimetype": "text/x-python",
   "name": "python",
   "nbconvert_exporter": "python",
   "pygments_lexer": "ipython3",
   "version": "3.10.11"
  }
 },
 "nbformat": 4,
 "nbformat_minor": 2
}
