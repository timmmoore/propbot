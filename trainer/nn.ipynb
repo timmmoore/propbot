{
 "cells": [
  {
   "cell_type": "code",
   "execution_count": 75,
   "metadata": {},
   "outputs": [],
   "source": [
    "import keras\n",
    "from keras.layers import Dense\n",
    "from keras.models import Sequential\n",
    "from keras import optimizers\n",
    "from keras import backend as K\n",
    "import numpy as np\n",
    "\n",
    "from matplotlib import pyplot as plt\n",
    "from IPython.display import clear_output"
   ]
  },
  {
   "cell_type": "code",
   "execution_count": 76,
   "metadata": {
    "collapsed": true
   },
   "outputs": [],
   "source": [
    "#training data from https://github.com/IdleHandsProject/makennbot\n",
    "x_train = [\n",
    "  [ 0.0, 0.0, 0.0, 0.0, 0.0],\n",
    "  [ 1.0, 1.0, 1.0, 1.0, 1.0],\n",
    "  [ 0.0, 0.0, 1.0, 0.0, 0.0],\n",
    "  [ 0.0, 1.0, 1.0, 1.0, 0.0],\n",
    "  [ 0.5, 0.5, 0.5, 0.5, 0.5],\n",
    "  [ 0.0, 0.0, 0.5, 0.0, 0.0],\n",
    "]\n",
    "y_train = [\n",
    "  [ 1.0, 1.0],\n",
    "  [ 0.0, 0.0],\n",
    "  [ 0.6, 0.7],\n",
    "  [ 0.8, 0.2],\n",
    "  [ 0.6, 0.6],\n",
    "  [ 0.5, 0.6],\n",
    "]\n",
    "\n",
    "x_train = np.array(x_train)\n",
    "y_train = np.array(y_train)"
   ]
  },
  {
   "cell_type": "code",
   "execution_count": 77,
   "metadata": {
    "collapsed": true
   },
   "outputs": [],
   "source": [
    "model = Sequential()\n",
    "\n",
    "IN = x_train.shape[1]\n",
    "HIDDEN = IN + 1\n",
    "OUT = y_train.shape[1]\n",
    "\n",
    "model.add(Dense(units=HIDDEN, activation='sigmoid', input_dim=IN, dtype='float16'))\n",
    "model.add(Dense(units=OUT, activation='sigmoid', dtype='float16'))\n",
    "\n",
    "model.compile(loss='mean_squared_error',\n",
    "              optimizer=optimizers.SGD(learning_rate=0.5, momentum=0.9))\n"
   ]
  },
  {
   "cell_type": "code",
   "execution_count": 78,
   "metadata": {
    "collapsed": true
   },
   "outputs": [],
   "source": [
    "class PlotLosses(keras.callbacks.Callback):\n",
    "    def on_train_begin(self, logs={}):\n",
    "        self.i = 0\n",
    "        self.x = []\n",
    "        self.losses = []\n",
    "        self.val_losses = []\n",
    "        \n",
    "        self.fig = plt.figure()\n",
    "        \n",
    "        self.logs = []\n",
    "\n",
    "    def on_epoch_end(self, epoch, logs={}):\n",
    "        \n",
    "        self.logs.append(logs)\n",
    "        self.x.append(self.i)\n",
    "        self.losses.append(logs.get('loss'))\n",
    "        #self.val_losses.append(logs.get('val_loss'))\n",
    "        self.i += 1\n",
    "        \n",
    "        clear_output(wait=True)\n",
    "        plt.plot(self.x, self.losses, label=\"loss\")\n",
    "        #plt.plot(self.x, self.val_losses, label=\"val_loss\")\n",
    "        plt.legend()\n",
    "        plt.show();\n",
    "        \n",
    "plot_losses = PlotLosses()"
   ]
  },
  {
   "cell_type": "code",
   "execution_count": 79,
   "metadata": {},
   "outputs": [
    {
     "data": {
      "image/png": "[encoded data removed]",
      "text/plain": [
       "<Figure size 640x480 with 1 Axes>"
      ]
     },
     "metadata": {},
     "output_type": "display_data"
    },
    {
     "data": {
      "text/plain": [
       "<keras.src.callbacks.History at 0x243000ad690>"
      ]
     },
     "execution_count": 79,
     "metadata": {},
     "output_type": "execute_result"
    }
   ],
   "source": [
    "#callback = keras.callbacks.EarlyStopping(monitor='loss',min_delta=0.0001)\n",
    "model.fit(x_train, y_train, epochs=2000, batch_size=1, verbose=False, callbacks=[plot_losses])"
   ]
  },
  {
   "cell_type": "code",
   "execution_count": 80,
   "metadata": {},
   "outputs": [
    {
     "name": "stdout",
     "output_type": "stream",
     "text": [
      "1/1 [==============================] - 0s 126ms/step\n",
      "model:\t [0.97 0.96]\n",
      "label:\t [1. 1.]\n",
      " \n",
      "model:\t [0.01 0.01]\n",
      "label:\t [0. 0.]\n",
      " \n",
      "model:\t [0.6 0.7]\n",
      "label:\t [0.6 0.7]\n",
      " \n",
      "model:\t [0.8 0.2]\n",
      "label:\t [0.8 0.2]\n",
      " \n",
      "model:\t [0.6 0.6]\n",
      "label:\t [0.6 0.6]\n",
      " \n",
      "model:\t [0.51 0.61]\n",
      "label:\t [0.5 0.6]\n",
      " \n"
     ]
    }
   ],
   "source": [
    "preds = model.predict(x_train).tolist()\n",
    "for i, pred in enumerate(preds):\n",
    "    print('model:\\t', np.round(pred,2))\n",
    "    print('label:\\t', y_train[i])\n",
    "    print(' ')"
   ]
  },
  {
   "cell_type": "code",
   "execution_count": 81,
   "metadata": {
    "collapsed": true
   },
   "outputs": [],
   "source": [
    "def to_str(name, W):\n",
    "    s = str(W.tolist()).replace('[', '').replace(']', '\\n').replace(',', '\\nlong ')\n",
    "    return 'f'+name+'\\nlong ' + s + 'fEnd'+name"
   ]
  },
  {
   "cell_type": "code",
   "execution_count": 82,
   "metadata": {},
   "outputs": [
    {
     "name": "stdout",
     "output_type": "stream",
     "text": [
      "// replace these two lines in spin2 code:\n",
      "// float HiddenWeights[InputNodes+1][HiddenNodes]\n",
      "// float OutputWeights[HiddenNodes+1][OutputNodes]\n",
      "// With trained weights below.\n",
      "\n",
      "\n",
      "fHiddenWeights\n",
      "long -0.9814453125\n",
      "long  1.6611328125\n",
      "long  1.2294921875\n",
      "long  1.9384765625\n",
      "long  1.9365234375\n",
      "long  0.392578125\n",
      "\n",
      "long  -0.188232421875\n",
      "long  -0.7158203125\n",
      "long  1.4345703125\n",
      "long  1.2646484375\n",
      "long  0.488525390625\n",
      "long  1.591796875\n",
      "\n",
      "long  2.779296875\n",
      "long  -0.404052734375\n",
      "long  -8.1953125\n",
      "long  0.035125732421875\n",
      "long  -0.1109619140625\n",
      "long  -0.31689453125\n",
      "\n",
      "long  -0.08349609375\n",
      "long  -1.740234375\n",
      "long  1.5517578125\n",
      "long  1.0654296875\n",
      "long  0.483642578125\n",
      "long  1.2265625\n",
      "\n",
      "long  -0.391845703125\n",
      "long  1.9873046875\n",
      "long  1.1337890625\n",
      "long  1.1201171875\n",
      "long  2.197265625\n",
      "long  0.2249755859375\n",
      "\n",
      "long  -2.7578125\n",
      "long  0.6669921875\n",
      "long  1.6826171875\n",
      "long  -4.0\n",
      "long  -3.388671875\n",
      "long  -2.0\n",
      "\n",
      "fEndHiddenWeights\n",
      "fOutputWeights\n",
      "long 1.9052734375\n",
      "long  2.255859375\n",
      "\n",
      "long  -3.580078125\n",
      "long  0.1651611328125\n",
      "\n",
      "long  4.984375\n",
      "long  4.21875\n",
      "\n",
      "long  -2.234375\n",
      "long  -2.95703125\n",
      "\n",
      "long  -3.1328125\n",
      "long  -1.6025390625\n",
      "\n",
      "long  -0.4013671875\n",
      "long  -3.0\n",
      "\n",
      "long  1.61328125\n",
      "long  -0.042083740234375\n",
      "\n",
      "fEndOutputWeights\n"
     ]
    }
   ],
   "source": [
    "# output weights as strings you can copy into arduino sketch\n",
    "W1 = np.vstack((K.eval(model.weights[0]), K.eval(model.weights[1])))\n",
    "W2 = np.vstack((K.eval(model.weights[2]), K.eval(model.weights[3])))\n",
    "\n",
    "print('// replace these two lines in spin2 code:')\n",
    "print('// float HiddenWeights[InputNodes+1][HiddenNodes]')\n",
    "print('// float OutputWeights[HiddenNodes+1][OutputNodes]')\n",
    "print('// With trained weights below.')\n",
    "print('\\n')\n",
    "print(to_str('HiddenWeights', W1))\n",
    "print(to_str('OutputWeights', W2))"
   ]
  },
  {
   "cell_type": "code",
   "execution_count": null,
   "metadata": {
    "collapsed": true
   },
   "outputs": [],
   "source": []
  }
 ],
 "metadata": {
  "kernelspec": {
   "display_name": "Python 3",
   "language": "python",
   "name": "python3"
  },
  "language_info": {
   "codemirror_mode": {
    "name": "ipython",
    "version": 3
   },
   "file_extension": ".py",
   "mimetype": "text/x-python",
   "name": "python",
   "nbconvert_exporter": "python",
   "pygments_lexer": "ipython3",
   "version": "3.10.11"
  }
 },
 "nbformat": 4,
 "nbformat_minor": 2
}
