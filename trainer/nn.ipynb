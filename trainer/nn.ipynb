{
 "cells": [
  {
   "cell_type": "code",
   "execution_count": 1,
   "metadata": {},
   "outputs": [],
   "source": [
    "import keras\n",
    "from keras.layers import Dense\n",
    "from keras.models import Sequential\n",
    "from keras import optimizers\n",
    "from keras import backend as K\n",
    "import numpy as np\n",
    "\n",
    "from matplotlib import pyplot as plt\n",
    "from IPython.display import clear_output"
   ]
  },
  {
   "cell_type": "code",
   "execution_count": 2,
   "metadata": {
    "collapsed": true
   },
   "outputs": [],
   "source": [
    "#training data from https://github.com/IdleHandsProject/makennbot\n",
    "x_train = [\n",
    "  [ 0.0, 0.0, 0.0, 0.0, 0.0],\n",
    "  [ 1.0, 1.0, 1.0, 1.0, 1.0],\n",
    "  [ 0.0, 0.0, 1.0, 0.0, 0.0],\n",
    "  [ 0.0, 1.0, 1.0, 1.0, 0.0],\n",
    "  #[ 0.0, 1.0, 1.0, 0.0, 0.0],      #' 1 Detect ON FL, F\n",
    "  #[ 0.0, 1.0, 0.0, 0.0, 0.0],      # ' 2 Detect ON FL\n",
    "  #[ 1.0, 1.0, 1.0, 0.0, 0.0],      # ' 3 Detect ON F, FL, L\n",
    "  #[ 1.0, 1.0, 0.0, 0.0, 0.0],      # ' 4 Detect ON L and FL\n",
    "  #[ 0.0, 0.0, 1.0, 0.0, 0.0],      # ' Detect ON F\n",
    "  #[ 1.0, 0.0, 0.0, 0.0, 0.0],      # ' 6 Detect ON L\n",
    "  #[ 0.0, 0.0, 0.0, 0.0, 0.0],      # ' NO Detect\n",
    "  #[ 0.0, 0.0, 0.0, 1.0, 0.0],      # ' 8 Detect ON FR\n",
    "  #[ 0.0, 1.0, 0.0, 1.0, 0.0],      # ' Detect ON FL, FR\n",
    "  #[ 0.0, 0.0, 1.0, 1.0, 0.0],      #' 10 Detect ON F, FR\n",
    "  #[ 0.0, 1.0, 1.0, 1.0, 0.0],      # ' Detect ON FL, F, FR\n",
    "  #[ 1.0, 0.0, 0.0, 1.0, 0.0],      # ' 12 Detect ON L, F\n",
    "  #[ 1.0, 1.0, 0.0, 1.0, 0.0],      # ' Detect ON L, FL, FR\n",
    "  #[ 1.0, 0.0, 1.0, 1.0, 0.0],      # ' 14 Detect ON L, F, FR\n",
    "  #[ 1.0, 0.0, 1.0, 0.0, 0.0],      # ' Detect ON L, F\n",
    "  #[ 1.0, 1.0, 1.0, 1.0, 0.0],      # ' 16 Detect ON L, FL, F, FR\n",
    "  #[ 0.0, 1.0, 1.0, 0.0, 1.0],      # ' Detect ON FL, F, R\n",
    "  #[ 0.0, 1.0, 0.0, 0.0, 1.0],      # ' 18 Detect ON FL, R\n",
    "  #[ 1.0, 1.0, 1.0, 0.0, 1.0],      # ' Detect ON F, FL, L, R\n",
    "  #[ 1.0, 1.0, 0.0, 0.0, 1.0],      # ' 20 Detect ON L and FL, R\n",
    "  #[ 0.0, 0.0, 1.0, 0.0, 1.0],      # ' Detect ON F, R\n",
    "  #[ 1.0, 0.0, 0.0, 0.0, 1.0],      # ' 22 Detect ON L, R\n",
    "  #[ 0.0, 0.0, 0.0, 0.0, 1.0],      # ' R\n",
    "  #[ 0.0, 0.0, 0.0, 1.0, 1.0],      # ' 24 Detect ON FR, R\n",
    "  #[ 0.0, 1.0, 0.0, 1.0, 1.0],      # ' Detect ON FL, FR, R\n",
    "  #[ 0.0, 0.0, 1.0, 1.0, 1.0],      # ' 26 Detect ON F, FR, R\n",
    "  #[ 0.0, 1.0, 1.0, 1.0, 1.0],      # ' Detect ON FL, F, FR, R\n",
    "  #[ 1.0, 0.0, 0.0, 1.0, 1.0],      # ' 28 Detect ON L, F, R\n",
    "  #[ 1.0, 1.0, 0.0, 1.0, 1.0],      # ' Detect ON L, FL, FR, R\n",
    "  #[ 1.0, 0.0, 1.0, 1.0, 1.0],      # ' 30 Detect ON L, F, FR, R\n",
    "  #[ 1.0, 0.0, 1.0, 0.0, 1.0],      # ' Detect ON L, F, R\n",
    "  #[ 1.0, 1.0, 1.0, 1.0, 1.0],      # ' 32 Detect ON L, FL, F, FR, R\n",
    "]\n",
    "y_train = [\n",
    "  [ 1.0, 1.0],\n",
    "  [ 0.0, 0.0],\n",
    "  [ 0.5, 0.6],\n",
    "  [ 0.8, 0.2],\n",
    "  #[ 0.65, 0.55],       #' 1 LEFT MOTOR faster\n",
    "  #[ 0.75, 0.5],        #' 2 LEFT MOTOR FASTER!\n",
    "  #[ 1.0,  0.5],        #' BOTH MOTORS FULL BACKWARDS\n",
    "  #[ 0.7,  0.7],        #' 4 MOTOR both forwards\n",
    "  #[ 0.5,  0.75],       #' MOTOR LEFT STOPPED, RIGHT FORWARDS\n",
    "  #[ 0.7,  0.7],        #' 6 BOTH fowards\n",
    "  #[ 0.75,  0.75],      #' BOTH forwards\n",
    "  #[ 0.7, 0.7],         #' 8 \n",
    "  #[ 0.6,  0.6],\n",
    "  #[ 0.55,  0.65],      #' 10\n",
    "  #[ 0.2,  0.2],\n",
    "  #[ 0.55,  0.65],      #' 12\n",
    "  #[ 0.6,  0.6],\n",
    "  #[ 0.3,  0.3],        #' 14\n",
    "  #[ 0.65, 0.55],\n",
    "  #[ 0.2,  0.2],        #' 16\n",
    "  #[ 0.2, 0.2],       #' LEFT MOTOR SLOW\n",
    "  #[ 0.55, 0.55],       # ' 18 LEFT MOTOR FASTER\n",
    "  #[ 0.2,  0.2],        #' BOTH MOTORS FULL BACKWARDS\n",
    "  #[ 0.55,  0.55],      #  ' 20 MOTOR LEFT FULL FORWARD, RIGHT BACKWARDS\n",
    "  #[ 0.5,  0.75],       #' MOTOR LEFT STOPPED, RIGHT FORWARDS\n",
    "  #[ 0.7,  0.7],        #' 22 BOTH BACKWARDS\n",
    "  #[ 0.7,  0.7],        #' BOTH MOTORS STOPPED\n",
    "  #[ 0.55, 0.55],       #' 24\n",
    "  #[ 0.55,  0.55],\n",
    "  #[ 0.5, 0.7],         #' 26\n",
    "  #[ 0.2,  0.2],\n",
    "  #[ 0.6,  0.6],        #' 28\n",
    "  #[ 0.55,  0.55],\n",
    "  #[ 0.2, 0.2],        #' 30\n",
    "  #[ 0.2,  0.2],\n",
    "  #[ 0.2, 0.2],       #' 32\n",
    "]\n",
    "\n",
    "x_train = np.array(x_train)\n",
    "y_train = np.array(y_train)"
   ]
  },
  {
   "cell_type": "code",
   "execution_count": 3,
   "metadata": {
    "collapsed": true
   },
   "outputs": [],
   "source": [
    "model = Sequential()\n",
    "\n",
    "IN = x_train.shape[1]\n",
    "HIDDEN = IN + 1\n",
    "OUT = y_train.shape[1]\n",
    "\n",
    "model.add(Dense(units=HIDDEN, activation='sigmoid', input_dim=IN, dtype='float16'))\n",
    "model.add(Dense(units=OUT, activation='sigmoid', dtype='float16'))\n",
    "\n",
    "model.compile(loss='mean_squared_error',\n",
    "              optimizer=optimizers.SGD(learning_rate=0.4))"
   ]
  },
  {
   "cell_type": "code",
   "execution_count": 4,
   "metadata": {
    "collapsed": true
   },
   "outputs": [],
   "source": [
    "class PlotLosses(keras.callbacks.Callback):\n",
    "    def on_train_begin(self, logs={}):\n",
    "        self.i = 0\n",
    "        self.x = []\n",
    "        self.losses = []\n",
    "        self.val_losses = []\n",
    "        \n",
    "        self.fig = plt.figure()\n",
    "        \n",
    "        self.logs = []\n",
    "\n",
    "    def on_epoch_end(self, epoch, logs={}):\n",
    "        \n",
    "        self.logs.append(logs)\n",
    "        self.x.append(self.i)\n",
    "        self.losses.append(logs.get('loss'))\n",
    "        self.val_losses.append(logs.get('val_loss'))\n",
    "        self.i += 1\n",
    "        \n",
    "        clear_output(wait=True)\n",
    "        plt.plot(self.x, self.losses, label=\"loss\")\n",
    "        plt.plot(self.x, self.val_losses, label=\"val_loss\")\n",
    "        plt.legend()\n",
    "        plt.show();\n",
    "        \n",
    "plot_losses = PlotLosses()"
   ]
  },
  {
   "cell_type": "code",
   "execution_count": 5,
   "metadata": {},
   "outputs": [
    {
     "data": {
      "image/png": "[encoded data removed]",
      "text/plain": [
       "<Figure size 640x480 with 1 Axes>"
      ]
     },
     "metadata": {},
     "output_type": "display_data"
    },
    {
     "data": {
      "text/plain": [
       "<keras.src.callbacks.History at 0x235b90095a0>"
      ]
     },
     "execution_count": 5,
     "metadata": {},
     "output_type": "execute_result"
    }
   ],
   "source": [
    "model.fit(x_train, y_train, epochs=2000, batch_size=1, verbose=False, callbacks=[plot_losses])"
   ]
  },
  {
   "cell_type": "code",
   "execution_count": 6,
   "metadata": {},
   "outputs": [
    {
     "name": "stdout",
     "output_type": "stream",
     "text": [
      "1/1 [==============================] - 0s 171ms/step\n",
      "model:\t [0.96 0.96]\n",
      "label:\t [1. 1.]\n",
      " \n",
      "model:\t [0.04 0.03]\n",
      "label:\t [0. 0.]\n",
      " \n",
      "model:\t [0.51 0.6 ]\n",
      "label:\t [0.5 0.6]\n",
      " \n",
      "model:\t [0.79 0.21]\n",
      "label:\t [0.8 0.2]\n",
      " \n"
     ]
    }
   ],
   "source": [
    "preds = model.predict(x_train).tolist()\n",
    "for i, pred in enumerate(preds):\n",
    "    print('model:\\t', np.round(pred,2))\n",
    "    print('label:\\t', y_train[i])\n",
    "    print(' ')"
   ]
  },
  {
   "cell_type": "code",
   "execution_count": 7,
   "metadata": {
    "collapsed": true
   },
   "outputs": [],
   "source": [
    "def to_str(name, W):\n",
    "    s = str(W.tolist()).replace('[', '').replace(']', '\\n').replace(',', '\\nlong ')\n",
    "    return 'f'+name+'\\nlong ' + s + 'fEnd'+name"
   ]
  },
  {
   "cell_type": "code",
   "execution_count": 8,
   "metadata": {},
   "outputs": [
    {
     "name": "stdout",
     "output_type": "stream",
     "text": [
      "// replace these two lines in spin2 code:\n",
      "// float HiddenWeights[InputNodes+1][HiddenNodes]\n",
      "// float OutputWeights[HiddenNodes+1][OutputNodes]\n",
      "// With trained weights below.\n",
      "\n",
      "\n",
      "fHiddenWeights\n",
      "long -0.8779296875\n",
      "long  1.34375\n",
      "long  -1.576171875\n",
      "long  -1.3125\n",
      "long  0.0219268798828125\n",
      "long  0.853515625\n",
      "\n",
      "long  0.355712890625\n",
      "long  -1.0\n",
      "long  -0.57080078125\n",
      "long  1.0\n",
      "long  -1.1728515625\n",
      "long  0.84765625\n",
      "\n",
      "long  -1.0\n",
      "long  1.1328125\n",
      "long  -1.515625\n",
      "long  -1.0869140625\n",
      "long  -1.423828125\n",
      "long  1.14453125\n",
      "\n",
      "long  -0.30322265625\n",
      "long  -1.0\n",
      "long  0.82177734375\n",
      "long  0.391845703125\n",
      "long  -1.0947265625\n",
      "long  0.53076171875\n",
      "\n",
      "long  -0.471923828125\n",
      "long  0.9580078125\n",
      "long  -0.724609375\n",
      "long  -1.875\n",
      "long  -0.79248046875\n",
      "long  0.62255859375\n",
      "\n",
      "long  0.311767578125\n",
      "long  -0.264892578125\n",
      "long  1.0185546875\n",
      "long  0.8857421875\n",
      "long  1.4091796875\n",
      "long  -1.296875\n",
      "\n",
      "fEndHiddenWeights\n",
      "fOutputWeights\n",
      "long 1.3447265625\n",
      "long  0.70654296875\n",
      "\n",
      "long  -2.455078125\n",
      "long  -0.10870361328125\n",
      "\n",
      "long  2.189453125\n",
      "long  2.0\n",
      "\n",
      "long  2.9375\n",
      "long  0.7998046875\n",
      "\n",
      "long  0.99951171875\n",
      "long  3.00390625\n",
      "\n",
      "long  -1.6171875\n",
      "long  -2.9765625\n",
      "\n",
      "long  -0.59521484375\n",
      "long  -0.99951171875\n",
      "\n",
      "fEndOutputWeights\n"
     ]
    }
   ],
   "source": [
    "# output weights as strings you can copy into arduino sketch\n",
    "W1 = np.vstack((K.eval(model.weights[0]), K.eval(model.weights[1])))\n",
    "W2 = np.vstack((K.eval(model.weights[2]), K.eval(model.weights[3])))\n",
    "\n",
    "print('// replace these two lines in spin2 code:')\n",
    "print('// float HiddenWeights[InputNodes+1][HiddenNodes]')\n",
    "print('// float OutputWeights[HiddenNodes+1][OutputNodes]')\n",
    "print('// With trained weights below.')\n",
    "print('\\n')\n",
    "print(to_str('HiddenWeights', W1))\n",
    "print(to_str('OutputWeights', W2))"
   ]
  },
  {
   "cell_type": "code",
   "execution_count": null,
   "metadata": {
    "collapsed": true
   },
   "outputs": [],
   "source": []
  }
 ],
 "metadata": {
  "kernelspec": {
   "display_name": "Python 3",
   "language": "python",
   "name": "python3"
  },
  "language_info": {
   "codemirror_mode": {
    "name": "ipython",
    "version": 3
   },
   "file_extension": ".py",
   "mimetype": "text/x-python",
   "name": "python",
   "nbconvert_exporter": "python",
   "pygments_lexer": "ipython3",
   "version": "3.10.11"
  }
 },
 "nbformat": 4,
 "nbformat_minor": 2
}
