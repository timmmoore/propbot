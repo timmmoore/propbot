{
 "cells": [
  {
   "cell_type": "code",
   "execution_count": 9,
   "metadata": {},
   "outputs": [],
   "source": [
    "import keras\n",
    "from keras.layers import Dense\n",
    "from keras.models import Sequential\n",
    "from keras import optimizers\n",
    "from keras import backend as K\n",
    "import numpy as np\n",
    "\n",
    "from matplotlib import pyplot as plt\n",
    "from IPython.display import clear_output"
   ]
  },
  {
   "cell_type": "code",
   "execution_count": 10,
   "metadata": {
    "collapsed": true
   },
   "outputs": [],
   "source": [
    "#training data from https://github.com/IdleHandsProject/makennbot\n",
    "x_train = [\n",
    "  [ 0.0, 0.0, 0.0, 0.0, 0.0],\n",
    "  [ 1.0, 1.0, 1.0, 1.0, 1.0],\n",
    "  [ 0.0, 0.0, 1.0, 0.0, 0.0],\n",
    "  [ 0.0, 1.0, 1.0, 1.0, 0.0],\n",
    "  [ 0.5, 0.5, 0.5, 0.5, 0.5],\n",
    "  [ 0.0, 0.0, 0.5, 0.0, 0.0],\n",
    "]\n",
    "y_train = [\n",
    "  [ 1.0, 1.0],\n",
    "  [ 0.0, 0.0],\n",
    "  [ 0.6, 0.7],\n",
    "  [ 0.8, 0.2],\n",
    "  [ 0.6, 0.6],\n",
    "  [ 0.5, 0.6],\n",
    "]\n",
    "\n",
    "x_train = np.array(x_train)\n",
    "y_train = np.array(y_train)"
   ]
  },
  {
   "cell_type": "code",
   "execution_count": 11,
   "metadata": {
    "collapsed": true
   },
   "outputs": [],
   "source": [
    "model = Sequential()\n",
    "\n",
    "IN = x_train.shape[1]\n",
    "HIDDEN = IN + 1\n",
    "OUT = y_train.shape[1]\n",
    "\n",
    "model.add(Dense(units=HIDDEN, activation='sigmoid', input_dim=IN, dtype='float16'))\n",
    "model.add(Dense(units=OUT, activation='sigmoid', dtype='float16'))\n",
    "\n",
    "model.compile(loss='mean_squared_error',\n",
    "              optimizer=optimizers.SGD(learning_rate=0.4))"
   ]
  },
  {
   "cell_type": "code",
   "execution_count": 12,
   "metadata": {
    "collapsed": true
   },
   "outputs": [],
   "source": [
    "class PlotLosses(keras.callbacks.Callback):\n",
    "    def on_train_begin(self, logs={}):\n",
    "        self.i = 0\n",
    "        self.x = []\n",
    "        self.losses = []\n",
    "        self.val_losses = []\n",
    "        \n",
    "        self.fig = plt.figure()\n",
    "        \n",
    "        self.logs = []\n",
    "\n",
    "    def on_epoch_end(self, epoch, logs={}):\n",
    "        \n",
    "        self.logs.append(logs)\n",
    "        self.x.append(self.i)\n",
    "        self.losses.append(logs.get('loss'))\n",
    "        self.val_losses.append(logs.get('val_loss'))\n",
    "        self.i += 1\n",
    "        \n",
    "        clear_output(wait=True)\n",
    "        plt.plot(self.x, self.losses, label=\"loss\")\n",
    "        plt.plot(self.x, self.val_losses, label=\"val_loss\")\n",
    "        plt.legend()\n",
    "        plt.show();\n",
    "        \n",
    "plot_losses = PlotLosses()"
   ]
  },
  {
   "cell_type": "code",
   "execution_count": 13,
   "metadata": {},
   "outputs": [
    {
     "data": {
      "image/png": "[encoded data removed]",
      "text/plain": [
       "<Figure size 640x480 with 1 Axes>"
      ]
     },
     "metadata": {},
     "output_type": "display_data"
    },
    {
     "data": {
      "text/plain": [
       "<keras.src.callbacks.History at 0x145c0fd2f80>"
      ]
     },
     "execution_count": 13,
     "metadata": {},
     "output_type": "execute_result"
    }
   ],
   "source": [
    "model.fit(x_train, y_train, epochs=5000, batch_size=1, verbose=False, callbacks=[plot_losses])"
   ]
  },
  {
   "cell_type": "code",
   "execution_count": 14,
   "metadata": {},
   "outputs": [
    {
     "name": "stdout",
     "output_type": "stream",
     "text": [
      "1/1 [==============================] - 0s 177ms/step\n",
      "model:\t [0.97 0.96]\n",
      "label:\t [1. 1.]\n",
      " \n",
      "model:\t [0.05 0.05]\n",
      "label:\t [0. 0.]\n",
      " \n",
      "model:\t [0.57 0.67]\n",
      "label:\t [0.6 0.7]\n",
      " \n",
      "model:\t [0.79 0.2 ]\n",
      "label:\t [0.8 0.2]\n",
      " \n",
      "model:\t [0.59 0.58]\n",
      "label:\t [0.6 0.6]\n",
      " \n",
      "model:\t [0.54 0.64]\n",
      "label:\t [0.5 0.6]\n",
      " \n"
     ]
    }
   ],
   "source": [
    "preds = model.predict(x_train).tolist()\n",
    "for i, pred in enumerate(preds):\n",
    "    print('model:\\t', np.round(pred,2))\n",
    "    print('label:\\t', y_train[i])\n",
    "    print(' ')"
   ]
  },
  {
   "cell_type": "code",
   "execution_count": 15,
   "metadata": {
    "collapsed": true
   },
   "outputs": [],
   "source": [
    "def to_str(name, W):\n",
    "    s = str(W.tolist()).replace('[', '').replace(']', '\\n').replace(',', '\\nlong ')\n",
    "    return 'f'+name+'\\nlong ' + s + 'fEnd'+name"
   ]
  },
  {
   "cell_type": "code",
   "execution_count": 16,
   "metadata": {},
   "outputs": [
    {
     "name": "stdout",
     "output_type": "stream",
     "text": [
      "// replace these two lines in spin2 code:\n",
      "// float HiddenWeights[InputNodes+1][HiddenNodes]\n",
      "// float OutputWeights[HiddenNodes+1][OutputNodes]\n",
      "// With trained weights below.\n",
      "\n",
      "\n",
      "fHiddenWeights\n",
      "long -0.771484375\n",
      "long  1.359375\n",
      "long  0.45068359375\n",
      "long  -1.74609375\n",
      "long  -0.356201171875\n",
      "long  -1.220703125\n",
      "\n",
      "long  0.169189453125\n",
      "long  -0.26416015625\n",
      "long  -1.35546875\n",
      "long  -1.21484375\n",
      "long  0.54443359375\n",
      "long  -0.65869140625\n",
      "\n",
      "long  1.189453125\n",
      "long  -1.05078125\n",
      "long  -0.397216796875\n",
      "long  7.68359375\n",
      "long  -0.4580078125\n",
      "long  0.9111328125\n",
      "\n",
      "long  1.0556640625\n",
      "long  -0.1793212890625\n",
      "long  -1.04296875\n",
      "long  -1.57421875\n",
      "long  0.99951171875\n",
      "long  -0.0469970703125\n",
      "\n",
      "long  -4.0\n",
      "long  1.81640625\n",
      "long  0.755859375\n",
      "long  -1.22265625\n",
      "long  -0.415771484375\n",
      "long  -0.68701171875\n",
      "\n",
      "long  1.3857421875\n",
      "long  -1.1259765625\n",
      "long  2.0\n",
      "long  -1.197265625\n",
      "long  -0.0611572265625\n",
      "long  1.220703125\n",
      "\n",
      "fEndHiddenWeights\n",
      "fOutputWeights\n",
      "long 4.00390625\n",
      "long  2.462890625\n",
      "\n",
      "long  -3.546875\n",
      "long  -2.0\n",
      "\n",
      "long  -1.044921875\n",
      "long  2.638671875\n",
      "\n",
      "long  -5.7890625\n",
      "long  -4.63671875\n",
      "\n",
      "long  0.6484375\n",
      "long  -2.0\n",
      "\n",
      "long  2.06640625\n",
      "long  2.962890625\n",
      "\n",
      "long  1.482421875\n",
      "long  -0.8515625\n",
      "\n",
      "fEndOutputWeights\n"
     ]
    }
   ],
   "source": [
    "# output weights as strings you can copy into arduino sketch\n",
    "W1 = np.vstack((K.eval(model.weights[0]), K.eval(model.weights[1])))\n",
    "W2 = np.vstack((K.eval(model.weights[2]), K.eval(model.weights[3])))\n",
    "\n",
    "print('// replace these two lines in spin2 code:')\n",
    "print('// float HiddenWeights[InputNodes+1][HiddenNodes]')\n",
    "print('// float OutputWeights[HiddenNodes+1][OutputNodes]')\n",
    "print('// With trained weights below.')\n",
    "print('\\n')\n",
    "print(to_str('HiddenWeights', W1))\n",
    "print(to_str('OutputWeights', W2))"
   ]
  },
  {
   "cell_type": "code",
   "execution_count": null,
   "metadata": {
    "collapsed": true
   },
   "outputs": [],
   "source": []
  }
 ],
 "metadata": {
  "kernelspec": {
   "display_name": "Python 3",
   "language": "python",
   "name": "python3"
  },
  "language_info": {
   "codemirror_mode": {
    "name": "ipython",
    "version": 3
   },
   "file_extension": ".py",
   "mimetype": "text/x-python",
   "name": "python",
   "nbconvert_exporter": "python",
   "pygments_lexer": "ipython3",
   "version": "3.10.11"
  }
 },
 "nbformat": 4,
 "nbformat_minor": 2
}
